{
  "nbformat": 4,
  "nbformat_minor": 0,
  "metadata": {
    "colab": {
      "provenance": [],
      "authorship_tag": "ABX9TyNzE8p+30t3BlrpFKuQwgdF",
      "include_colab_link": true
    },
    "kernelspec": {
      "name": "python3",
      "display_name": "Python 3"
    },
    "language_info": {
      "name": "python"
    }
  },
  "cells": [
    {
      "cell_type": "markdown",
      "metadata": {
        "id": "view-in-github",
        "colab_type": "text"
      },
      "source": [
        "<a href=\"https://colab.research.google.com/github/deba607/ROC_Curve/blob/main/Untitled0.ipynb\" target=\"_parent\"><img src=\"https://colab.research.google.com/assets/colab-badge.svg\" alt=\"Open In Colab\"/></a>"
      ]
    },
    {
      "cell_type": "code",
      "execution_count": 23,
      "metadata": {
        "id": "98ZW20NhA-eu"
      },
      "outputs": [],
      "source": [
        "import math\n",
        "import pandas as pd\n",
        "import matplotlib.pyplot as plt\n",
        "from sklearn.metrics import roc_curve, auc\n",
        "from sklearn.model_selection import train_test_split\n",
        "from sklearn.preprocessing import StandardScaler\n",
        "from sklearn.svm import SVC\n",
        "from sklearn.linear_model import LogisticRegression\n",
        "from sklearn.metrics import roc_curve, auc\n",
        "from sklearn.model_selection import KFold"
      ]
    },
    {
      "cell_type": "code",
      "source": [
        "df = pd.read_csv(\"/content/crime_data - Copy.csv\")\n",
        "print(df)"
      ],
      "metadata": {
        "colab": {
          "base_uri": "https://localhost:8080/"
        },
        "id": "BshLOrngBqxa",
        "outputId": "52fb014e-a0df-434e-9578-d597bef24d0e"
      },
      "execution_count": null,
      "outputs": [
        {
          "output_type": "stream",
          "name": "stdout",
          "text": [
            "      Unnamed: 0  state  county  community  fold  population  householdsize  \\\n",
            "0              0      0       0          0     0        0.19           0.33   \n",
            "1              0     53       0          0     0        0.00           0.16   \n",
            "2              0     24       0          0     0        0.00           0.42   \n",
            "3              0     34       0      81440     0        0.04           0.77   \n",
            "4              0     42      95       6096     0        0.01           0.55   \n",
            "...          ...    ...     ...        ...   ...         ...            ...   \n",
            "1989        1989     12       0          0    10        0.01           0.40   \n",
            "1990        1990      0       0          0    10        0.05           0.96   \n",
            "1991        1991      0       0      80070    10        0.16           0.37   \n",
            "1992        1992     25      17      72600    10        0.08           0.51   \n",
            "1993        1993      0       0          0    10        0.20           0.78   \n",
            "\n",
            "      racepctblack  racePctWhite  racePctAsian  ...  LandArea  PopDens  \\\n",
            "0             0.02          0.90          0.12  ...      0.12     0.26   \n",
            "1             0.12          0.74          0.45  ...      0.02     0.12   \n",
            "2             0.49          0.56          0.17  ...      0.01     0.21   \n",
            "3             0.00          0.08          0.12  ...      0.02     0.39   \n",
            "4             0.02          0.95          0.09  ...      0.04     0.09   \n",
            "...            ...           ...           ...  ...       ...      ...   \n",
            "1989          0.10          0.87          0.12  ...      0.01     0.28   \n",
            "1990          0.46          0.28          0.83  ...      0.02     0.37   \n",
            "1991          0.25          0.69          0.04  ...      0.08     0.32   \n",
            "1992          0.06          0.87          0.22  ...      0.03     0.38   \n",
            "1993          0.14          0.46          0.24  ...      0.11     0.30   \n",
            "\n",
            "      PctUsePubTrans  PolicCars  PolicOperBudg  LemasPctPolicOnPatr  \\\n",
            "0               0.20       0.06           0.04                 0.90   \n",
            "1               0.45       0.15           0.06                 0.71   \n",
            "2               0.02       0.15           0.06                 0.71   \n",
            "3               0.28       0.15           0.06                 0.71   \n",
            "4               0.02       0.15           0.06                 0.71   \n",
            "...              ...        ...            ...                  ...   \n",
            "1989            0.05       0.15           0.06                 0.71   \n",
            "1990            0.20       0.15           0.06                 0.71   \n",
            "1991            0.18       0.08           0.06                 0.78   \n",
            "1992            0.33       0.02           0.02                 0.79   \n",
            "1993            0.05       0.08           0.04                 0.73   \n",
            "\n",
            "      LemasGangUnitDeploy  LemasPctOfficDrugUn  PolicBudgPerPop  \\\n",
            "0                     0.5                 0.32             0.14   \n",
            "1                     0.5                 0.53             0.18   \n",
            "2                     0.5                 0.53             0.18   \n",
            "3                     0.5                 0.53             0.18   \n",
            "4                     0.5                 0.53             0.18   \n",
            "...                   ...                  ...              ...   \n",
            "1989                  0.5                 0.53             0.18   \n",
            "1990                  0.5                 0.53             0.18   \n",
            "1991                  0.5                 0.91             0.28   \n",
            "1992                  0.5                 0.22             0.18   \n",
            "1993                  0.5                 0.53             0.13   \n",
            "\n",
            "      ViolentCrimesPerPop  \n",
            "0                    0.20  \n",
            "1                    0.67  \n",
            "2                    0.43  \n",
            "3                    0.12  \n",
            "4                    0.03  \n",
            "...                   ...  \n",
            "1989                 0.09  \n",
            "1990                 0.45  \n",
            "1991                 0.23  \n",
            "1992                 0.19  \n",
            "1993                 0.48  \n",
            "\n",
            "[1994 rows x 128 columns]\n"
          ]
        }
      ]
    },
    {
      "cell_type": "code",
      "source": [
        "# generate 2 class dataset\n",
        "#X, y = make_classification(n_samples=1000, n_classes=2, random_state=1)\n",
        "X= df.drop(columns= 'ViolentCrimesPerPop', axis=1)\n",
        "y = df['ViolentCrimesPerPop']"
      ],
      "metadata": {
        "id": "rkcIJD3OCTsB"
      },
      "execution_count": null,
      "outputs": []
    },
    {
      "cell_type": "code",
      "source": [
        "print(X)\n",
        "print(y)"
      ],
      "metadata": {
        "colab": {
          "base_uri": "https://localhost:8080/"
        },
        "id": "s7141qelCdy2",
        "outputId": "fe5e09af-cc01-43e0-b6bb-0b36c3caa551"
      },
      "execution_count": null,
      "outputs": [
        {
          "output_type": "stream",
          "name": "stdout",
          "text": [
            "      Unnamed: 0  state  county  community  fold  population  householdsize  \\\n",
            "0              0      0       0          0     0        0.19           0.33   \n",
            "1              0     53       0          0     0        0.00           0.16   \n",
            "2              0     24       0          0     0        0.00           0.42   \n",
            "3              0     34       0      81440     0        0.04           0.77   \n",
            "4              0     42      95       6096     0        0.01           0.55   \n",
            "...          ...    ...     ...        ...   ...         ...            ...   \n",
            "1989        1989     12       0          0    10        0.01           0.40   \n",
            "1990        1990      0       0          0    10        0.05           0.96   \n",
            "1991        1991      0       0      80070    10        0.16           0.37   \n",
            "1992        1992     25      17      72600    10        0.08           0.51   \n",
            "1993        1993      0       0          0    10        0.20           0.78   \n",
            "\n",
            "      racepctblack  racePctWhite  racePctAsian  ...  PolicAveOTWorked  \\\n",
            "0             0.02          0.90          0.12  ...              0.29   \n",
            "1             0.12          0.74          0.45  ...              0.29   \n",
            "2             0.49          0.56          0.17  ...              0.29   \n",
            "3             0.00          0.08          0.12  ...              0.29   \n",
            "4             0.02          0.95          0.09  ...              0.29   \n",
            "...            ...           ...           ...  ...               ...   \n",
            "1989          0.10          0.87          0.12  ...              0.29   \n",
            "1990          0.46          0.28          0.83  ...              0.29   \n",
            "1991          0.25          0.69          0.04  ...              0.25   \n",
            "1992          0.06          0.87          0.22  ...              0.19   \n",
            "1993          0.14          0.46          0.24  ...              0.11   \n",
            "\n",
            "      LandArea  PopDens  PctUsePubTrans  PolicCars  PolicOperBudg  \\\n",
            "0         0.12     0.26            0.20       0.06           0.04   \n",
            "1         0.02     0.12            0.45       0.15           0.06   \n",
            "2         0.01     0.21            0.02       0.15           0.06   \n",
            "3         0.02     0.39            0.28       0.15           0.06   \n",
            "4         0.04     0.09            0.02       0.15           0.06   \n",
            "...        ...      ...             ...        ...            ...   \n",
            "1989      0.01     0.28            0.05       0.15           0.06   \n",
            "1990      0.02     0.37            0.20       0.15           0.06   \n",
            "1991      0.08     0.32            0.18       0.08           0.06   \n",
            "1992      0.03     0.38            0.33       0.02           0.02   \n",
            "1993      0.11     0.30            0.05       0.08           0.04   \n",
            "\n",
            "      LemasPctPolicOnPatr  LemasGangUnitDeploy  LemasPctOfficDrugUn  \\\n",
            "0                    0.90                  0.5                 0.32   \n",
            "1                    0.71                  0.5                 0.53   \n",
            "2                    0.71                  0.5                 0.53   \n",
            "3                    0.71                  0.5                 0.53   \n",
            "4                    0.71                  0.5                 0.53   \n",
            "...                   ...                  ...                  ...   \n",
            "1989                 0.71                  0.5                 0.53   \n",
            "1990                 0.71                  0.5                 0.53   \n",
            "1991                 0.78                  0.5                 0.91   \n",
            "1992                 0.79                  0.5                 0.22   \n",
            "1993                 0.73                  0.5                 0.53   \n",
            "\n",
            "      PolicBudgPerPop  \n",
            "0                0.14  \n",
            "1                0.18  \n",
            "2                0.18  \n",
            "3                0.18  \n",
            "4                0.18  \n",
            "...               ...  \n",
            "1989             0.18  \n",
            "1990             0.18  \n",
            "1991             0.28  \n",
            "1992             0.18  \n",
            "1993             0.13  \n",
            "\n",
            "[1994 rows x 127 columns]\n",
            "0       0.20\n",
            "1       0.67\n",
            "2       0.43\n",
            "3       0.12\n",
            "4       0.03\n",
            "        ... \n",
            "1989    0.09\n",
            "1990    0.45\n",
            "1991    0.23\n",
            "1992    0.19\n",
            "1993    0.48\n",
            "Name: ViolentCrimesPerPop, Length: 1994, dtype: float64\n"
          ]
        }
      ]
    },
    {
      "cell_type": "code",
      "source": [
        "X = df.iloc[:,0:-1].values\n",
        "y = df.iloc[:,-1].values"
      ],
      "metadata": {
        "id": "rN6l57t1Chj4"
      },
      "execution_count": null,
      "outputs": []
    },
    {
      "cell_type": "code",
      "source": [
        "X_train, X_test, y_train, y_test = train_test_split(X, y, test_size = 0.20, random_state = 4)"
      ],
      "metadata": {
        "id": "TIfy0FRICpsh"
      },
      "execution_count": null,
      "outputs": []
    },
    {
      "cell_type": "code",
      "source": [
        "# Initialize KFold\n",
        "kf = KFold(n_splits=10, shuffle=True, random_state=42)\n",
        "\n",
        "# Iterate over each fold\n",
        "for train_index, test_index in kf.split(X):\n",
        "    X_train, X_test = X[train_index], X[test_index]\n",
        "    y_train, y_test = y[train_index], y[test_index]\n",
        "\n",
        "            # Train your model on X_train and y_train\n",
        "                # ...\n",
        "                    # Evaluate your model on X_test and y_test\n",
        "                        # ..."
      ],
      "metadata": {
        "id": "4kZPIoVNJLIt"
      },
      "execution_count": 30,
      "outputs": []
    },
    {
      "cell_type": "code",
      "source": [
        "sc_X = StandardScaler()\n",
        "X_train = sc_X.fit_transform(X_train)\n",
        "X_test = sc_X.transform(X_test)"
      ],
      "metadata": {
        "id": "pB49HbZWC0n2"
      },
      "execution_count": 31,
      "outputs": []
    },
    {
      "source": [
        "model_SVC = SVC(kernel = 'rbf', random_state = 4)\n",
        "# Convert your target variable to discrete classes if it's intended for classification.\n",
        "# Here's a simple example using a threshold to binarize the data:\n",
        "threshold = 0.5  # Set an appropriate threshold value\n",
        "y_train_binary = (y_train > threshold).astype(int)\n",
        "\n",
        "# Now, use the binarized target for training:\n",
        "model_SVC.fit(X_train, y_train_binary)\n",
        "y_pred_svm = model_SVC.decision_function(X_test)"
      ],
      "cell_type": "code",
      "metadata": {
        "id": "S3M2YG3oDoXK"
      },
      "execution_count": 32,
      "outputs": []
    },
    {
      "cell_type": "code",
      "source": [
        "model_logistic = LogisticRegression()\n",
        "model_logistic.fit(X_train, y_train_binary)\n",
        "\n",
        "y_pred_logistic = model_logistic.decision_function(X_test)"
      ],
      "metadata": {
        "colab": {
          "base_uri": "https://localhost:8080/"
        },
        "id": "CFiDuZrXD8vH",
        "outputId": "a152e855-e89b-43d0-fda9-72a21def850e"
      },
      "execution_count": 33,
      "outputs": [
        {
          "output_type": "stream",
          "name": "stderr",
          "text": [
            "/usr/local/lib/python3.10/dist-packages/sklearn/linear_model/_logistic.py:458: ConvergenceWarning: lbfgs failed to converge (status=1):\n",
            "STOP: TOTAL NO. of ITERATIONS REACHED LIMIT.\n",
            "\n",
            "Increase the number of iterations (max_iter) or scale the data as shown in:\n",
            "    https://scikit-learn.org/stable/modules/preprocessing.html\n",
            "Please also refer to the documentation for alternative solver options:\n",
            "    https://scikit-learn.org/stable/modules/linear_model.html#logistic-regression\n",
            "  n_iter_i = _check_optimize_result(\n"
          ]
        }
      ]
    },
    {
      "cell_type": "code",
      "source": [
        "# Assuming y_test contains continuous values, you need to binarize it\n",
        "threshold = 0.5  # Set an appropriate threshold value\n",
        "y_test_binary = (y_test > threshold).astype(int)  # Use the same threshold as you did for y_train\n",
        "\n",
        "logistic_fpr, logistic_tpr, threshold = roc_curve(y_test_binary, y_pred_logistic)\n",
        "auc_logistic = auc(logistic_fpr, logistic_tpr)\n",
        "\n",
        "svm_fpr, svm_tpr, threshold = roc_curve(y_test_binary, y_pred_svm)\n",
        "auc_svm = auc(svm_fpr, svm_tpr)"
      ],
      "metadata": {
        "id": "6qVrdTBbEN2J"
      },
      "execution_count": 34,
      "outputs": []
    },
    {
      "cell_type": "code",
      "source": [
        "plt.figure(figsize=(5, 5), dpi=100)\n",
        "plt.plot(svm_fpr, svm_tpr, linestyle='-', label='SVM (auc = %0.3f)' % auc_svm)\n",
        "plt.plot(logistic_fpr, logistic_tpr, marker='.', label='Logistic (auc = %0.3f)' % auc_logistic)\n",
        "\n",
        "plt.xlabel('False Positive Rate -->')\n",
        "plt.ylabel('True Positive Rate -->')\n",
        "\n",
        "plt.legend()\n",
        "\n",
        "plt.show()\n",
        "\n"
      ],
      "metadata": {
        "colab": {
          "base_uri": "https://localhost:8080/",
          "height": 465
        },
        "id": "TcAWaDEIFbiT",
        "outputId": "c211e8c3-c7d3-4e0f-e224-fd5632deb0b0"
      },
      "execution_count": 35,
      "outputs": [
        {
          "output_type": "display_data",
          "data": {
            "text/plain": [
              "<Figure size 500x500 with 1 Axes>"
            ],
            "image/png": "[encoded data removed]"
          },
          "metadata": {}
        }
      ]
    }
  ]
}