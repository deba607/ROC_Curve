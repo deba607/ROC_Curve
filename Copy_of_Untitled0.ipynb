{
  "nbformat": 4,
  "nbformat_minor": 0,
  "metadata": {
    "colab": {
      "provenance": [],
      "authorship_tag": "ABX9TyOrGsnyIdhhhPOO+9sXoDEu",
      "include_colab_link": true
    },
    "kernelspec": {
      "name": "python3",
      "display_name": "Python 3"
    },
    "language_info": {
      "name": "python"
    }
  },
  "cells": [
    {
      "cell_type": "markdown",
      "metadata": {
        "id": "view-in-github",
        "colab_type": "text"
      },
      "source": [
        "<a href=\"https://colab.research.google.com/github/deba607/ROC_Curve/blob/main/Copy_of_Untitled0.ipynb\" target=\"_parent\"><img src=\"https://colab.research.google.com/assets/colab-badge.svg\" alt=\"Open In Colab\"/></a>"
      ]
    },
    {
      "cell_type": "code",
      "execution_count": null,
      "metadata": {
        "id": "98ZW20NhA-eu"
      },
      "outputs": [],
      "source": [
        "import math\n",
        "import pandas as pd\n",
        "import matplotlib.pyplot as plt\n",
        "from sklearn.metrics import roc_curve, auc, roc_auc_score\n",
        "from sklearn.model_selection import train_test_split\n",
        "from sklearn.preprocessing import StandardScaler\n",
        "from sklearn.svm import SVC\n",
        "from sklearn.linear_model import LogisticRegression\n",
        "from sklearn.metrics import roc_curve, auc\n",
        "from sklearn.model_selection import KFold\n",
        "from sklearn.ensemble import RandomForestClassifier"
      ]
    },
    {
      "cell_type": "code",
      "source": [
        "df = pd.read_csv(\"/content/crime_data - Copy.csv\")\n",
        "print(df)"
      ],
      "metadata": {
        "colab": {
          "base_uri": "https://localhost:8080/"
        },
        "id": "BshLOrngBqxa",
        "outputId": "6674d9d9-dd89-44bd-bc66-a710091e516c"
      },
      "execution_count": null,
      "outputs": [
        {
          "output_type": "stream",
          "name": "stdout",
          "text": [
            "      Unnamed: 0  state  county  community  fold  population  householdsize  \\\n",
            "0              0      0       0          0     0        0.19           0.33   \n",
            "1              0     53       0          0     0        0.00           0.16   \n",
            "2              0     24       0          0     0        0.00           0.42   \n",
            "3              0     34       0      81440     0        0.04           0.77   \n",
            "4              0     42      95       6096     0        0.01           0.55   \n",
            "...          ...    ...     ...        ...   ...         ...            ...   \n",
            "1989        1989     12       0          0    10        0.01           0.40   \n",
            "1990        1990      0       0          0    10        0.05           0.96   \n",
            "1991        1991      0       0      80070    10        0.16           0.37   \n",
            "1992        1992     25      17      72600    10        0.08           0.51   \n",
            "1993        1993      0       0          0    10        0.20           0.78   \n",
            "\n",
            "      racepctblack  racePctWhite  racePctAsian  ...  LandArea  PopDens  \\\n",
            "0             0.02          0.90          0.12  ...      0.12     0.26   \n",
            "1             0.12          0.74          0.45  ...      0.02     0.12   \n",
            "2             0.49          0.56          0.17  ...      0.01     0.21   \n",
            "3             0.00          0.08          0.12  ...      0.02     0.39   \n",
            "4             0.02          0.95          0.09  ...      0.04     0.09   \n",
            "...            ...           ...           ...  ...       ...      ...   \n",
            "1989          0.10          0.87          0.12  ...      0.01     0.28   \n",
            "1990          0.46          0.28          0.83  ...      0.02     0.37   \n",
            "1991          0.25          0.69          0.04  ...      0.08     0.32   \n",
            "1992          0.06          0.87          0.22  ...      0.03     0.38   \n",
            "1993          0.14          0.46          0.24  ...      0.11     0.30   \n",
            "\n",
            "      PctUsePubTrans  PolicCars  PolicOperBudg  LemasPctPolicOnPatr  \\\n",
            "0               0.20       0.06           0.04                 0.90   \n",
            "1               0.45       0.15           0.06                 0.71   \n",
            "2               0.02       0.15           0.06                 0.71   \n",
            "3               0.28       0.15           0.06                 0.71   \n",
            "4               0.02       0.15           0.06                 0.71   \n",
            "...              ...        ...            ...                  ...   \n",
            "1989            0.05       0.15           0.06                 0.71   \n",
            "1990            0.20       0.15           0.06                 0.71   \n",
            "1991            0.18       0.08           0.06                 0.78   \n",
            "1992            0.33       0.02           0.02                 0.79   \n",
            "1993            0.05       0.08           0.04                 0.73   \n",
            "\n",
            "      LemasGangUnitDeploy  LemasPctOfficDrugUn  PolicBudgPerPop  \\\n",
            "0                     0.5                 0.32             0.14   \n",
            "1                     0.5                 0.53             0.18   \n",
            "2                     0.5                 0.53             0.18   \n",
            "3                     0.5                 0.53             0.18   \n",
            "4                     0.5                 0.53             0.18   \n",
            "...                   ...                  ...              ...   \n",
            "1989                  0.5                 0.53             0.18   \n",
            "1990                  0.5                 0.53             0.18   \n",
            "1991                  0.5                 0.91             0.28   \n",
            "1992                  0.5                 0.22             0.18   \n",
            "1993                  0.5                 0.53             0.13   \n",
            "\n",
            "      ViolentCrimesPerPop  \n",
            "0                    0.20  \n",
            "1                    0.67  \n",
            "2                    0.43  \n",
            "3                    0.12  \n",
            "4                    0.03  \n",
            "...                   ...  \n",
            "1989                 0.09  \n",
            "1990                 0.45  \n",
            "1991                 0.23  \n",
            "1992                 0.19  \n",
            "1993                 0.48  \n",
            "\n",
            "[1994 rows x 128 columns]\n"
          ]
        }
      ]
    },
    {
      "cell_type": "code",
      "source": [
        "# generate 2 class dataset\n",
        "#X, y = make_classification(n_samples=1000, n_classes=2, random_state=1)\n",
        "X= df.drop(columns= 'ViolentCrimesPerPop', axis=1)\n",
        "y = df['ViolentCrimesPerPop']"
      ],
      "metadata": {
        "id": "rkcIJD3OCTsB"
      },
      "execution_count": null,
      "outputs": []
    },
    {
      "cell_type": "code",
      "source": [
        "print(X)\n",
        "print(y)"
      ],
      "metadata": {
        "colab": {
          "base_uri": "https://localhost:8080/"
        },
        "id": "s7141qelCdy2",
        "outputId": "4267607f-c123-40e2-a390-465743675632"
      },
      "execution_count": null,
      "outputs": [
        {
          "output_type": "stream",
          "name": "stdout",
          "text": [
            "      Unnamed: 0  state  county  community  fold  population  householdsize  \\\n",
            "0              0      0       0          0     0        0.19           0.33   \n",
            "1              0     53       0          0     0        0.00           0.16   \n",
            "2              0     24       0          0     0        0.00           0.42   \n",
            "3              0     34       0      81440     0        0.04           0.77   \n",
            "4              0     42      95       6096     0        0.01           0.55   \n",
            "...          ...    ...     ...        ...   ...         ...            ...   \n",
            "1989        1989     12       0          0    10        0.01           0.40   \n",
            "1990        1990      0       0          0    10        0.05           0.96   \n",
            "1991        1991      0       0      80070    10        0.16           0.37   \n",
            "1992        1992     25      17      72600    10        0.08           0.51   \n",
            "1993        1993      0       0          0    10        0.20           0.78   \n",
            "\n",
            "      racepctblack  racePctWhite  racePctAsian  ...  PolicAveOTWorked  \\\n",
            "0             0.02          0.90          0.12  ...              0.29   \n",
            "1             0.12          0.74          0.45  ...              0.29   \n",
            "2             0.49          0.56          0.17  ...              0.29   \n",
            "3             0.00          0.08          0.12  ...              0.29   \n",
            "4             0.02          0.95          0.09  ...              0.29   \n",
            "...            ...           ...           ...  ...               ...   \n",
            "1989          0.10          0.87          0.12  ...              0.29   \n",
            "1990          0.46          0.28          0.83  ...              0.29   \n",
            "1991          0.25          0.69          0.04  ...              0.25   \n",
            "1992          0.06          0.87          0.22  ...              0.19   \n",
            "1993          0.14          0.46          0.24  ...              0.11   \n",
            "\n",
            "      LandArea  PopDens  PctUsePubTrans  PolicCars  PolicOperBudg  \\\n",
            "0         0.12     0.26            0.20       0.06           0.04   \n",
            "1         0.02     0.12            0.45       0.15           0.06   \n",
            "2         0.01     0.21            0.02       0.15           0.06   \n",
            "3         0.02     0.39            0.28       0.15           0.06   \n",
            "4         0.04     0.09            0.02       0.15           0.06   \n",
            "...        ...      ...             ...        ...            ...   \n",
            "1989      0.01     0.28            0.05       0.15           0.06   \n",
            "1990      0.02     0.37            0.20       0.15           0.06   \n",
            "1991      0.08     0.32            0.18       0.08           0.06   \n",
            "1992      0.03     0.38            0.33       0.02           0.02   \n",
            "1993      0.11     0.30            0.05       0.08           0.04   \n",
            "\n",
            "      LemasPctPolicOnPatr  LemasGangUnitDeploy  LemasPctOfficDrugUn  \\\n",
            "0                    0.90                  0.5                 0.32   \n",
            "1                    0.71                  0.5                 0.53   \n",
            "2                    0.71                  0.5                 0.53   \n",
            "3                    0.71                  0.5                 0.53   \n",
            "4                    0.71                  0.5                 0.53   \n",
            "...                   ...                  ...                  ...   \n",
            "1989                 0.71                  0.5                 0.53   \n",
            "1990                 0.71                  0.5                 0.53   \n",
            "1991                 0.78                  0.5                 0.91   \n",
            "1992                 0.79                  0.5                 0.22   \n",
            "1993                 0.73                  0.5                 0.53   \n",
            "\n",
            "      PolicBudgPerPop  \n",
            "0                0.14  \n",
            "1                0.18  \n",
            "2                0.18  \n",
            "3                0.18  \n",
            "4                0.18  \n",
            "...               ...  \n",
            "1989             0.18  \n",
            "1990             0.18  \n",
            "1991             0.28  \n",
            "1992             0.18  \n",
            "1993             0.13  \n",
            "\n",
            "[1994 rows x 127 columns]\n",
            "0       0.20\n",
            "1       0.67\n",
            "2       0.43\n",
            "3       0.12\n",
            "4       0.03\n",
            "        ... \n",
            "1989    0.09\n",
            "1990    0.45\n",
            "1991    0.23\n",
            "1992    0.19\n",
            "1993    0.48\n",
            "Name: ViolentCrimesPerPop, Length: 1994, dtype: float64\n"
          ]
        }
      ]
    },
    {
      "cell_type": "code",
      "source": [
        "X = df.iloc[:,0:-1].values\n",
        "y = df.iloc[:,-1].values"
      ],
      "metadata": {
        "id": "rN6l57t1Chj4"
      },
      "execution_count": null,
      "outputs": []
    },
    {
      "cell_type": "code",
      "source": [
        "X_train, X_test, y_train, y_test = train_test_split(X, y, test_size = 0.20, random_state = 4)"
      ],
      "metadata": {
        "id": "TIfy0FRICpsh"
      },
      "execution_count": null,
      "outputs": []
    },
    {
      "cell_type": "code",
      "source": [
        "# Initialize KFold\n",
        "kf = KFold(n_splits=10, shuffle=True, random_state=42)\n",
        "\n",
        "# Iterate over each fold\n",
        "for train_index, test_index in kf.split(X):\n",
        "    X_train, X_test = X[train_index], X[test_index]\n",
        "    y_train, y_test = y[train_index], y[test_index]\n",
        "\n",
        "            # Train your model on X_train and y_train\n",
        "                # ...\n",
        "                    # Evaluate your model on X_test and y_test\n",
        "                        # ..."
      ],
      "metadata": {
        "id": "4kZPIoVNJLIt"
      },
      "execution_count": null,
      "outputs": []
    },
    {
      "cell_type": "code",
      "source": [
        "sc_X = StandardScaler()\n",
        "X_train = sc_X.fit_transform(X_train)\n",
        "X_test = sc_X.transform(X_test)"
      ],
      "metadata": {
        "id": "pB49HbZWC0n2"
      },
      "execution_count": null,
      "outputs": []
    },
    {
      "cell_type": "code",
      "source": [
        "# this is for random forest\n",
        "# Convert your target variable to discrete classes if it's intended for classification.\n",
        "# Here's a simple example using a threshold to binarize the data:\n",
        "threshold = 0.5  # Set an appropriate threshold value\n",
        "y_train_binary = (y_train > threshold).astype(int)\n",
        "# Train a classification model\n",
        "model = RandomForestClassifier(random_state=42)\n",
        "model.fit(X_train, y_train_binary)"
      ],
      "metadata": {
        "id": "jMrxaydtyYgu",
        "outputId": "e1d34413-c1dc-429a-8aeb-7f6143610228",
        "colab": {
          "base_uri": "https://localhost:8080/",
          "height": 75
        }
      },
      "execution_count": null,
      "outputs": [
        {
          "output_type": "execute_result",
          "data": {
            "text/plain": [
              "RandomForestClassifier(random_state=42)"
            ],
            "text/html": [
              "<style>#sk-container-id-2 {color: black;background-color: white;}#sk-container-id-2 pre{padding: 0;}#sk-container-id-2 div.sk-toggleable {background-color: white;}#sk-container-id-2 label.sk-toggleable__label {cursor: pointer;display: block;width: 100%;margin-bottom: 0;padding: 0.3em;box-sizing: border-box;text-align: center;}#sk-container-id-2 label.sk-toggleable__label-arrow:before {content: \"▸\";float: left;margin-right: 0.25em;color: #696969;}#sk-container-id-2 label.sk-toggleable__label-arrow:hover:before {color: black;}#sk-container-id-2 div.sk-estimator:hover label.sk-toggleable__label-arrow:before {color: black;}#sk-container-id-2 div.sk-toggleable__content {max-height: 0;max-width: 0;overflow: hidden;text-align: left;background-color: #f0f8ff;}#sk-container-id-2 div.sk-toggleable__content pre {margin: 0.2em;color: black;border-radius: 0.25em;background-color: #f0f8ff;}#sk-container-id-2 input.sk-toggleable__control:checked~div.sk-toggleable__content {max-height: 200px;max-width: 100%;overflow: auto;}#sk-container-id-2 input.sk-toggleable__control:checked~label.sk-toggleable__label-arrow:before {content: \"▾\";}#sk-container-id-2 div.sk-estimator input.sk-toggleable__control:checked~label.sk-toggleable__label {background-color: #d4ebff;}#sk-container-id-2 div.sk-label input.sk-toggleable__control:checked~label.sk-toggleable__label {background-color: #d4ebff;}#sk-container-id-2 input.sk-hidden--visually {border: 0;clip: rect(1px 1px 1px 1px);clip: rect(1px, 1px, 1px, 1px);height: 1px;margin: -1px;overflow: hidden;padding: 0;position: absolute;width: 1px;}#sk-container-id-2 div.sk-estimator {font-family: monospace;background-color: #f0f8ff;border: 1px dotted black;border-radius: 0.25em;box-sizing: border-box;margin-bottom: 0.5em;}#sk-container-id-2 div.sk-estimator:hover {background-color: #d4ebff;}#sk-container-id-2 div.sk-parallel-item::after {content: \"\";width: 100%;border-bottom: 1px solid gray;flex-grow: 1;}#sk-container-id-2 div.sk-label:hover label.sk-toggleable__label {background-color: #d4ebff;}#sk-container-id-2 div.sk-serial::before {content: \"\";position: absolute;border-left: 1px solid gray;box-sizing: border-box;top: 0;bottom: 0;left: 50%;z-index: 0;}#sk-container-id-2 div.sk-serial {display: flex;flex-direction: column;align-items: center;background-color: white;padding-right: 0.2em;padding-left: 0.2em;position: relative;}#sk-container-id-2 div.sk-item {position: relative;z-index: 1;}#sk-container-id-2 div.sk-parallel {display: flex;align-items: stretch;justify-content: center;background-color: white;position: relative;}#sk-container-id-2 div.sk-item::before, #sk-container-id-2 div.sk-parallel-item::before {content: \"\";position: absolute;border-left: 1px solid gray;box-sizing: border-box;top: 0;bottom: 0;left: 50%;z-index: -1;}#sk-container-id-2 div.sk-parallel-item {display: flex;flex-direction: column;z-index: 1;position: relative;background-color: white;}#sk-container-id-2 div.sk-parallel-item:first-child::after {align-self: flex-end;width: 50%;}#sk-container-id-2 div.sk-parallel-item:last-child::after {align-self: flex-start;width: 50%;}#sk-container-id-2 div.sk-parallel-item:only-child::after {width: 0;}#sk-container-id-2 div.sk-dashed-wrapped {border: 1px dashed gray;margin: 0 0.4em 0.5em 0.4em;box-sizing: border-box;padding-bottom: 0.4em;background-color: white;}#sk-container-id-2 div.sk-label label {font-family: monospace;font-weight: bold;display: inline-block;line-height: 1.2em;}#sk-container-id-2 div.sk-label-container {text-align: center;}#sk-container-id-2 div.sk-container {/* jupyter's `normalize.less` sets `[hidden] { display: none; }` but bootstrap.min.css set `[hidden] { display: none !important; }` so we also need the `!important` here to be able to override the default hidden behavior on the sphinx rendered scikit-learn.org. See: https://github.com/scikit-learn/scikit-learn/issues/21755 */display: inline-block !important;position: relative;}#sk-container-id-2 div.sk-text-repr-fallback {display: none;}</style><div id=\"sk-container-id-2\" class=\"sk-top-container\"><div class=\"sk-text-repr-fallback\"><pre>RandomForestClassifier(random_state=42)</pre><b>In a Jupyter environment, please rerun this cell to show the HTML representation or trust the notebook. <br />On GitHub, the HTML representation is unable to render, please try loading this page with nbviewer.org.</b></div><div class=\"sk-container\" hidden><div class=\"sk-item\"><div class=\"sk-estimator sk-toggleable\"><input class=\"sk-toggleable__control sk-hidden--visually\" id=\"sk-estimator-id-2\" type=\"checkbox\" checked><label for=\"sk-estimator-id-2\" class=\"sk-toggleable__label sk-toggleable__label-arrow\">RandomForestClassifier</label><div class=\"sk-toggleable__content\"><pre>RandomForestClassifier(random_state=42)</pre></div></div></div></div></div>"
            ]
          },
          "metadata": {},
          "execution_count": 15
        }
      ]
    },
    {
      "source": [
        "model_SVC = SVC(kernel = 'rbf', random_state = 4)\n",
        "# Convert your target variable to discrete classes if it's intended for classification.\n",
        "# Here's a simple example using a threshold to binarize the data:\n",
        "threshold = 0.5  # Set an appropriate threshold value\n",
        "y_train_binary = (y_train > threshold).astype(int)\n",
        "\n",
        "# Now, use the binarized target for training:\n",
        "model_SVC.fit(X_train, y_train_binary)\n",
        "y_pred_svm = model_SVC.decision_function(X_test)"
      ],
      "cell_type": "code",
      "metadata": {
        "id": "S3M2YG3oDoXK"
      },
      "execution_count": null,
      "outputs": []
    },
    {
      "cell_type": "code",
      "source": [
        "# FOR THE RANDOM FOREST\n",
        "# Assuming y_test contains continuous values, you need to binarize it\n",
        "threshold = 0.5  # Set an appropriate threshold value\n",
        "y_test_binary = (y_test > threshold).astype(int)  # Use the same threshold as you did for y_train\n",
        "\n",
        "# Predict probabilities\n",
        "y_probs = model.predict_proba(X_test)[:, 1]  # Probabilities of the positive class\n",
        "\n",
        "# Compute ROC curve and AUC score\n",
        "fpr, tpr, thresholds = roc_curve(y_test_binary, y_probs)\n",
        "roc_auc = roc_auc_score(y_test_binary, y_probs)\n"
      ],
      "metadata": {
        "id": "0Rpp86y22jiy"
      },
      "execution_count": null,
      "outputs": []
    },
    {
      "cell_type": "code",
      "source": [
        "model_logistic = LogisticRegression()\n",
        "model_logistic.fit(X_train, y_train_binary)\n",
        "\n",
        "y_pred_logistic = model_logistic.decision_function(X_test)"
      ],
      "metadata": {
        "colab": {
          "base_uri": "https://localhost:8080/"
        },
        "id": "CFiDuZrXD8vH",
        "outputId": "a152e855-e89b-43d0-fda9-72a21def850e"
      },
      "execution_count": null,
      "outputs": [
        {
          "output_type": "stream",
          "name": "stderr",
          "text": [
            "/usr/local/lib/python3.10/dist-packages/sklearn/linear_model/_logistic.py:458: ConvergenceWarning: lbfgs failed to converge (status=1):\n",
            "STOP: TOTAL NO. of ITERATIONS REACHED LIMIT.\n",
            "\n",
            "Increase the number of iterations (max_iter) or scale the data as shown in:\n",
            "    https://scikit-learn.org/stable/modules/preprocessing.html\n",
            "Please also refer to the documentation for alternative solver options:\n",
            "    https://scikit-learn.org/stable/modules/linear_model.html#logistic-regression\n",
            "  n_iter_i = _check_optimize_result(\n"
          ]
        }
      ]
    },
    {
      "cell_type": "code",
      "source": [
        "# Assuming y_test contains continuous values, you need to binarize it\n",
        "threshold = 0.5  # Set an appropriate threshold value\n",
        "y_test_binary = (y_test > threshold).astype(int)  # Use the same threshold as you did for y_train\n",
        "\n",
        "logistic_fpr, logistic_tpr, threshold = roc_curve(y_test_binary, y_pred_logistic)\n",
        "auc_logistic = auc(logistic_fpr, logistic_tpr)\n",
        "\n",
        "svm_fpr, svm_tpr, threshold = roc_curve(y_test_binary, y_pred_svm)\n",
        "auc_svm = auc(svm_fpr, svm_tpr)"
      ],
      "metadata": {
        "id": "6qVrdTBbEN2J"
      },
      "execution_count": null,
      "outputs": []
    },
    {
      "cell_type": "code",
      "source": [
        "# FOR THE RANDOM FOREST\n",
        "# Plot the ROC curve\n",
        "plt.figure()\n",
        "plt.plot(fpr, tpr, color='darkorange', lw=2, label='ROC curve (area = %0.2f)' % roc_auc)\n",
        "plt.plot([0, 1], [0, 1], color='navy', lw=2, linestyle='--')\n",
        "plt.xlim([0.0, 1.0])\n",
        "plt.ylim([0.0, 1.05])\n",
        "plt.xlabel('False Positive Rate')\n",
        "plt.ylabel('True Positive Rate')\n",
        "plt.title('Receiver Operating Characteristic')\n",
        "plt.legend(loc=\"lower right\")\n",
        "plt.show()"
      ],
      "metadata": {
        "id": "huETJW8h3koO",
        "outputId": "b129daca-d20a-4bf1-cb86-03bafe887ed4",
        "colab": {
          "base_uri": "https://localhost:8080/",
          "height": 472
        }
      },
      "execution_count": null,
      "outputs": [
        {
          "output_type": "display_data",
          "data": {
            "text/plain": [
              "<Figure size 640x480 with 1 Axes>"
            ],
            "image/png": "[encoded data removed]"
          },
          "metadata": {}
        }
      ]
    },
    {
      "cell_type": "code",
      "source": [
        "plt.figure(figsize=(5, 5), dpi=100)\n",
        "plt.plot(svm_fpr, svm_tpr, linestyle='-', label='SVM (auc = %0.3f)' % auc_svm)\n",
        "plt.plot(logistic_fpr, logistic_tpr, marker='.', label='Logistic (auc = %0.3f)' % auc_logistic)\n",
        "\n",
        "plt.xlabel('False Positive Rate -->')\n",
        "plt.ylabel('True Positive Rate -->')\n",
        "\n",
        "plt.legend()\n",
        "\n",
        "plt.show()\n",
        "\n"
      ],
      "metadata": {
        "colab": {
          "base_uri": "https://localhost:8080/",
          "height": 465
        },
        "id": "TcAWaDEIFbiT",
        "outputId": "c211e8c3-c7d3-4e0f-e224-fd5632deb0b0"
      },
      "execution_count": null,
      "outputs": [
        {
          "output_type": "display_data",
          "data": {
            "text/plain": [
              "<Figure size 500x500 with 1 Axes>"
            ],
            "image/png": "[encoded data removed]"
          },
          "metadata": {}
        }
      ]
    }
  ]
}